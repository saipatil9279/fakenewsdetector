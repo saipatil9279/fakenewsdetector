{
  "nbformat": 4,
  "nbformat_minor": 0,
  "metadata": {
    "colab": {
      "provenance": []
    },
    "kernelspec": {
      "name": "python3",
      "display_name": "Python 3"
    },
    "language_info": {
      "name": "python"
    }
  },
  "cells": [
    {
      "cell_type": "markdown",
      "source": [
        "Here, I try ro build a Fake News Detection Project using Python. For this project, we use libraries like pandas, NumPy, and scikit-learn, with TfidfVectorizer and PassiveAggressiveClassifier.\n",
        "\n",
        "First, we install the required libraries."
      ],
      "metadata": {
        "id": "SQT7GAeFN_s_"
      }
    },
    {
      "cell_type": "code",
      "execution_count": null,
      "metadata": {
        "colab": {
          "base_uri": "https://localhost:8080/"
        },
        "id": "Jd9GfcAyNLlC",
        "outputId": "f5b8087d-cb7c-4d8e-8ca3-bf1f4bbc6722"
      },
      "outputs": [
        {
          "output_type": "stream",
          "name": "stdout",
          "text": [
            "Requirement already satisfied: pandas in /usr/local/lib/python3.10/dist-packages (2.1.4)\n",
            "Requirement already satisfied: numpy in /usr/local/lib/python3.10/dist-packages (1.26.4)\n",
            "Requirement already satisfied: scikit-learn in /usr/local/lib/python3.10/dist-packages (1.3.2)\n",
            "Requirement already satisfied: matplotlib in /usr/local/lib/python3.10/dist-packages (3.7.1)\n",
            "Requirement already satisfied: seaborn in /usr/local/lib/python3.10/dist-packages (0.13.1)\n",
            "Requirement already satisfied: python-dateutil>=2.8.2 in /usr/local/lib/python3.10/dist-packages (from pandas) (2.8.2)\n",
            "Requirement already satisfied: pytz>=2020.1 in /usr/local/lib/python3.10/dist-packages (from pandas) (2024.1)\n",
            "Requirement already satisfied: tzdata>=2022.1 in /usr/local/lib/python3.10/dist-packages (from pandas) (2024.1)\n",
            "Requirement already satisfied: scipy>=1.5.0 in /usr/local/lib/python3.10/dist-packages (from scikit-learn) (1.13.1)\n",
            "Requirement already satisfied: joblib>=1.1.1 in /usr/local/lib/python3.10/dist-packages (from scikit-learn) (1.4.2)\n",
            "Requirement already satisfied: threadpoolctl>=2.0.0 in /usr/local/lib/python3.10/dist-packages (from scikit-learn) (3.5.0)\n",
            "Requirement already satisfied: contourpy>=1.0.1 in /usr/local/lib/python3.10/dist-packages (from matplotlib) (1.2.1)\n",
            "Requirement already satisfied: cycler>=0.10 in /usr/local/lib/python3.10/dist-packages (from matplotlib) (0.12.1)\n",
            "Requirement already satisfied: fonttools>=4.22.0 in /usr/local/lib/python3.10/dist-packages (from matplotlib) (4.53.1)\n",
            "Requirement already satisfied: kiwisolver>=1.0.1 in /usr/local/lib/python3.10/dist-packages (from matplotlib) (1.4.5)\n",
            "Requirement already satisfied: packaging>=20.0 in /usr/local/lib/python3.10/dist-packages (from matplotlib) (24.1)\n",
            "Requirement already satisfied: pillow>=6.2.0 in /usr/local/lib/python3.10/dist-packages (from matplotlib) (9.4.0)\n",
            "Requirement already satisfied: pyparsing>=2.3.1 in /usr/local/lib/python3.10/dist-packages (from matplotlib) (3.1.2)\n",
            "Requirement already satisfied: six>=1.5 in /usr/local/lib/python3.10/dist-packages (from python-dateutil>=2.8.2->pandas) (1.16.0)\n"
          ]
        }
      ],
      "source": [
        "pip install pandas numpy scikit-learn matplotlib seaborn"
      ]
    },
    {
      "cell_type": "markdown",
      "source": [
        "Now, we import these libraries into our Notebook."
      ],
      "metadata": {
        "id": "ClwnVAG7Opra"
      }
    },
    {
      "cell_type": "code",
      "source": [
        "import pandas as pd\n",
        "import numpy as np\n",
        "from sklearn.model_selection import train_test_split\n",
        "from sklearn.feature_extraction.text import TfidfVectorizer\n",
        "from sklearn.linear_model import PassiveAggressiveClassifier\n",
        "from sklearn.metrics import accuracy_score, confusion_matrix, classification_report\n",
        "import matplotlib.pyplot as plt\n",
        "import seaborn as sns"
      ],
      "metadata": {
        "id": "OZ-v33Y9Oxj_"
      },
      "execution_count": null,
      "outputs": []
    },
    {
      "cell_type": "markdown",
      "source": [
        "Then, we load the 'news.csv' dataset which I took from Kaggle uploaded by Antonios Kokiantonis."
      ],
      "metadata": {
        "id": "H6_ANZykQEus"
      }
    },
    {
      "cell_type": "code",
      "source": [
        "from google.colab import files\n",
        "uploaded = files.upload()"
      ],
      "metadata": {
        "colab": {
          "base_uri": "https://localhost:8080/",
          "height": 73
        },
        "id": "9yHFvhl4Qgmo",
        "outputId": "f2d31d3d-785f-4a90-88c4-3f6d6ef2cd28"
      },
      "execution_count": null,
      "outputs": [
        {
          "output_type": "display_data",
          "data": {
            "text/plain": [
              "<IPython.core.display.HTML object>"
            ],
            "text/html": [
              "\n",
              "     <input type=\"file\" id=\"files-6bfca15e-be4b-4371-8e04-d9a08ff2909a\" name=\"files[]\" multiple disabled\n",
              "        style=\"border:none\" />\n",
              "     <output id=\"result-6bfca15e-be4b-4371-8e04-d9a08ff2909a\">\n",
              "      Upload widget is only available when the cell has been executed in the\n",
              "      current browser session. Please rerun this cell to enable.\n",
              "      </output>\n",
              "      <script>// Copyright 2017 Google LLC\n",
              "//\n",
              "// Licensed under the Apache License, Version 2.0 (the \"License\");\n",
              "// you may not use this file except in compliance with the License.\n",
              "// You may obtain a copy of the License at\n",
              "//\n",
              "//      http://www.apache.org/licenses/LICENSE-2.0\n",
              "//\n",
              "// Unless required by applicable law or agreed to in writing, software\n",
              "// distributed under the License is distributed on an \"AS IS\" BASIS,\n",
              "// WITHOUT WARRANTIES OR CONDITIONS OF ANY KIND, either express or implied.\n",
              "// See the License for the specific language governing permissions and\n",
              "// limitations under the License.\n",
              "\n",
              "/**\n",
              " * @fileoverview Helpers for google.colab Python module.\n",
              " */\n",
              "(function(scope) {\n",
              "function span(text, styleAttributes = {}) {\n",
              "  const element = document.createElement('span');\n",
              "  element.textContent = text;\n",
              "  for (const key of Object.keys(styleAttributes)) {\n",
              "    element.style[key] = styleAttributes[key];\n",
              "  }\n",
              "  return element;\n",
              "}\n",
              "\n",
              "// Max number of bytes which will be uploaded at a time.\n",
              "const MAX_PAYLOAD_SIZE = 100 * 1024;\n",
              "\n",
              "function _uploadFiles(inputId, outputId) {\n",
              "  const steps = uploadFilesStep(inputId, outputId);\n",
              "  const outputElement = document.getElementById(outputId);\n",
              "  // Cache steps on the outputElement to make it available for the next call\n",
              "  // to uploadFilesContinue from Python.\n",
              "  outputElement.steps = steps;\n",
              "\n",
              "  return _uploadFilesContinue(outputId);\n",
              "}\n",
              "\n",
              "// This is roughly an async generator (not supported in the browser yet),\n",
              "// where there are multiple asynchronous steps and the Python side is going\n",
              "// to poll for completion of each step.\n",
              "// This uses a Promise to block the python side on completion of each step,\n",
              "// then passes the result of the previous step as the input to the next step.\n",
              "function _uploadFilesContinue(outputId) {\n",
              "  const outputElement = document.getElementById(outputId);\n",
              "  const steps = outputElement.steps;\n",
              "\n",
              "  const next = steps.next(outputElement.lastPromiseValue);\n",
              "  return Promise.resolve(next.value.promise).then((value) => {\n",
              "    // Cache the last promise value to make it available to the next\n",
              "    // step of the generator.\n",
              "    outputElement.lastPromiseValue = value;\n",
              "    return next.value.response;\n",
              "  });\n",
              "}\n",
              "\n",
              "/**\n",
              " * Generator function which is called between each async step of the upload\n",
              " * process.\n",
              " * @param {string} inputId Element ID of the input file picker element.\n",
              " * @param {string} outputId Element ID of the output display.\n",
              " * @return {!Iterable<!Object>} Iterable of next steps.\n",
              " */\n",
              "function* uploadFilesStep(inputId, outputId) {\n",
              "  const inputElement = document.getElementById(inputId);\n",
              "  inputElement.disabled = false;\n",
              "\n",
              "  const outputElement = document.getElementById(outputId);\n",
              "  outputElement.innerHTML = '';\n",
              "\n",
              "  const pickedPromise = new Promise((resolve) => {\n",
              "    inputElement.addEventListener('change', (e) => {\n",
              "      resolve(e.target.files);\n",
              "    });\n",
              "  });\n",
              "\n",
              "  const cancel = document.createElement('button');\n",
              "  inputElement.parentElement.appendChild(cancel);\n",
              "  cancel.textContent = 'Cancel upload';\n",
              "  const cancelPromise = new Promise((resolve) => {\n",
              "    cancel.onclick = () => {\n",
              "      resolve(null);\n",
              "    };\n",
              "  });\n",
              "\n",
              "  // Wait for the user to pick the files.\n",
              "  const files = yield {\n",
              "    promise: Promise.race([pickedPromise, cancelPromise]),\n",
              "    response: {\n",
              "      action: 'starting',\n",
              "    }\n",
              "  };\n",
              "\n",
              "  cancel.remove();\n",
              "\n",
              "  // Disable the input element since further picks are not allowed.\n",
              "  inputElement.disabled = true;\n",
              "\n",
              "  if (!files) {\n",
              "    return {\n",
              "      response: {\n",
              "        action: 'complete',\n",
              "      }\n",
              "    };\n",
              "  }\n",
              "\n",
              "  for (const file of files) {\n",
              "    const li = document.createElement('li');\n",
              "    li.append(span(file.name, {fontWeight: 'bold'}));\n",
              "    li.append(span(\n",
              "        `(${file.type || 'n/a'}) - ${file.size} bytes, ` +\n",
              "        `last modified: ${\n",
              "            file.lastModifiedDate ? file.lastModifiedDate.toLocaleDateString() :\n",
              "                                    'n/a'} - `));\n",
              "    const percent = span('0% done');\n",
              "    li.appendChild(percent);\n",
              "\n",
              "    outputElement.appendChild(li);\n",
              "\n",
              "    const fileDataPromise = new Promise((resolve) => {\n",
              "      const reader = new FileReader();\n",
              "      reader.onload = (e) => {\n",
              "        resolve(e.target.result);\n",
              "      };\n",
              "      reader.readAsArrayBuffer(file);\n",
              "    });\n",
              "    // Wait for the data to be ready.\n",
              "    let fileData = yield {\n",
              "      promise: fileDataPromise,\n",
              "      response: {\n",
              "        action: 'continue',\n",
              "      }\n",
              "    };\n",
              "\n",
              "    // Use a chunked sending to avoid message size limits. See b/62115660.\n",
              "    let position = 0;\n",
              "    do {\n",
              "      const length = Math.min(fileData.byteLength - position, MAX_PAYLOAD_SIZE);\n",
              "      const chunk = new Uint8Array(fileData, position, length);\n",
              "      position += length;\n",
              "\n",
              "      const base64 = btoa(String.fromCharCode.apply(null, chunk));\n",
              "      yield {\n",
              "        response: {\n",
              "          action: 'append',\n",
              "          file: file.name,\n",
              "          data: base64,\n",
              "        },\n",
              "      };\n",
              "\n",
              "      let percentDone = fileData.byteLength === 0 ?\n",
              "          100 :\n",
              "          Math.round((position / fileData.byteLength) * 100);\n",
              "      percent.textContent = `${percentDone}% done`;\n",
              "\n",
              "    } while (position < fileData.byteLength);\n",
              "  }\n",
              "\n",
              "  // All done.\n",
              "  yield {\n",
              "    response: {\n",
              "      action: 'complete',\n",
              "    }\n",
              "  };\n",
              "}\n",
              "\n",
              "scope.google = scope.google || {};\n",
              "scope.google.colab = scope.google.colab || {};\n",
              "scope.google.colab._files = {\n",
              "  _uploadFiles,\n",
              "  _uploadFilesContinue,\n",
              "};\n",
              "})(self);\n",
              "</script> "
            ]
          },
          "metadata": {}
        },
        {
          "output_type": "stream",
          "name": "stdout",
          "text": [
            "Saving news.csv to news.csv\n"
          ]
        }
      ]
    },
    {
      "cell_type": "code",
      "source": [
        "# Load the dataset\n",
        "df = pd.read_csv('news.csv')"
      ],
      "metadata": {
        "id": "6jO57TkpT0fC"
      },
      "execution_count": null,
      "outputs": []
    },
    {
      "cell_type": "markdown",
      "source": [
        "Explore the dataset to understand what's the dataset all about."
      ],
      "metadata": {
        "id": "BDZjHvETT5tl"
      }
    },
    {
      "cell_type": "code",
      "source": [
        "print(df.head())\n",
        "print(df.info())\n",
        "print(df['label'].value_counts())"
      ],
      "metadata": {
        "colab": {
          "base_uri": "https://localhost:8080/"
        },
        "id": "Y5XbNxkxUEPz",
        "outputId": "20f05985-3896-4ada-f9c4-e0a298b7ded4"
      },
      "execution_count": null,
      "outputs": [
        {
          "output_type": "stream",
          "name": "stdout",
          "text": [
            "   Unnamed: 0                                              title  \\\n",
            "0        8476                       You Can Smell Hillary’s Fear   \n",
            "1       10294  Watch The Exact Moment Paul Ryan Committed Pol...   \n",
            "2        3608        Kerry to go to Paris in gesture of sympathy   \n",
            "3       10142  Bernie supporters on Twitter erupt in anger ag...   \n",
            "4         875   The Battle of New York: Why This Primary Matters   \n",
            "\n",
            "                                                text label  \n",
            "0  Daniel Greenfield, a Shillman Journalism Fello...  FAKE  \n",
            "1  Google Pinterest Digg Linkedin Reddit Stumbleu...  FAKE  \n",
            "2  U.S. Secretary of State John F. Kerry said Mon...  REAL  \n",
            "3  — Kaydee King (@KaydeeKing) November 9, 2016 T...  FAKE  \n",
            "4  It's primary day in New York and front-runners...  REAL  \n",
            "<class 'pandas.core.frame.DataFrame'>\n",
            "RangeIndex: 6335 entries, 0 to 6334\n",
            "Data columns (total 4 columns):\n",
            " #   Column      Non-Null Count  Dtype \n",
            "---  ------      --------------  ----- \n",
            " 0   Unnamed: 0  6335 non-null   int64 \n",
            " 1   title       6335 non-null   object\n",
            " 2   text        6335 non-null   object\n",
            " 3   label       6335 non-null   object\n",
            "dtypes: int64(1), object(3)\n",
            "memory usage: 198.1+ KB\n",
            "None\n",
            "label\n",
            "REAL    3171\n",
            "FAKE    3164\n",
            "Name: count, dtype: int64\n"
          ]
        }
      ]
    },
    {
      "cell_type": "markdown",
      "source": [
        "The dataset I'm working with contains 6,335 entries, each representing a news article, and includes four columns: Unnamed: 0, title, text, and label. The Unnamed: 0 column appears to be an index or identifier, which may not be necessary for your analysis and could be dropped. The title and text columns contain the main content of the news articles, with title holding the article's headline and text containing the full article. The label column classifies each article as either \"REAL\" or \"FAKE,\" with the dataset showing a balanced distribution: 3,171 articles are labeled as \"REAL,\" and 3,164 are labeled as \"FAKE.\""
      ],
      "metadata": {
        "id": "vXLEQmIlUhg-"
      }
    },
    {
      "cell_type": "markdown",
      "source": [
        "Now, clean the data by ensuring there are no missing values. If there are any, will be removing them."
      ],
      "metadata": {
        "id": "cOtuWp9AUkj_"
      }
    },
    {
      "cell_type": "code",
      "source": [
        "# Check for missing values\n",
        "print(df.isnull().sum())\n",
        "\n",
        "# Drop missing values if any\n",
        "df = df.dropna()\n",
        "\n",
        "# Reset index after dropping\n",
        "df = df.reset_index(drop=True)"
      ],
      "metadata": {
        "colab": {
          "base_uri": "https://localhost:8080/"
        },
        "id": "baNmNnffVAk_",
        "outputId": "de9da5a8-f4e8-4bb3-886f-241339855fbb"
      },
      "execution_count": null,
      "outputs": [
        {
          "output_type": "stream",
          "name": "stdout",
          "text": [
            "Unnamed: 0    0\n",
            "title         0\n",
            "text          0\n",
            "label         0\n",
            "dtype: int64\n"
          ]
        }
      ]
    },
    {
      "cell_type": "markdown",
      "source": [
        "So, yeah, over here, there are no missing values."
      ],
      "metadata": {
        "id": "-fl7TrTXVLbk"
      }
    },
    {
      "cell_type": "code",
      "source": [
        "#Visualize Label Distribution\n",
        "sns.countplot(x='label', data=df)\n",
        "plt.title('Distribution of Labels')\n",
        "plt.show()"
      ],
      "metadata": {
        "colab": {
          "base_uri": "https://localhost:8080/",
          "height": 472
        },
        "id": "8z5Q81PgVYo1",
        "outputId": "f5c6ed85-6a28-49d3-ec45-1ca4794dbb60"
      },
      "execution_count": null,
      "outputs": [
        {
          "output_type": "display_data",
          "data": {
            "text/plain": [
              "<Figure size 640x480 with 1 Axes>"
            ],
            "image/png": "[encoded data removed]"
          },
          "metadata": {}
        }
      ]
    },
    {
      "cell_type": "markdown",
      "source": [
        "In the dataset, there happens to be equal number of 'REAL' as well as 'FAKE' data."
      ],
      "metadata": {
        "id": "PL7-qhfyVowa"
      }
    },
    {
      "cell_type": "markdown",
      "source": [
        "Now, let's split the data into training and testing data."
      ],
      "metadata": {
        "id": "mrBNc0R3V9FT"
      }
    },
    {
      "cell_type": "code",
      "source": [
        "X = df['text']\n",
        "y = df['label']\n",
        "\n",
        "X_train, X_test, y_train, y_test = train_test_split(X, y, test_size=0.2, random_state=7)"
      ],
      "metadata": {
        "id": "80v1rC5VVz_b"
      },
      "execution_count": null,
      "outputs": []
    },
    {
      "cell_type": "markdown",
      "source": [
        "Here, we used 'train_test_split' function from  the sklearn.model_selection module to randomly split the data into training and testing sets.\n",
        "Using, test_size=0.2, we split the data into 80:20 ration meaning 80% for training data and 20% for testing data.\n",
        "'random_state'  ensures that every time you run the code, the data will be split in the same way. Thus, 'random_state=7' parameter ensures that the split is reproducible."
      ],
      "metadata": {
        "id": "xkCw2OOhWdPR"
      }
    },
    {
      "cell_type": "code",
      "source": [
        "# Initialize the vectorizer with appropriate parameters\n",
        "tfidf_vectorizer = TfidfVectorizer(stop_words='english', max_df=0.7)\n",
        "\n",
        "# Fit and transform the training data\n",
        "tfidf_train = tfidf_vectorizer.fit_transform(X_train)\n",
        "\n",
        "# Transform the test data\n",
        "tfidf_test = tfidf_vectorizer.transform(X_test)"
      ],
      "metadata": {
        "id": "nhATir30Xigf"
      },
      "execution_count": null,
      "outputs": []
    },
    {
      "cell_type": "markdown",
      "source": [
        "Here, we used the TfidfVectorizer to convert the text data from the news articles into numerical features that can be used by a machine learning model. We first initialized the vectorizer, instructing it to ignore common English stop words and to exclude words that appear in more than 70% of the documents, as these are likely not informative. We then fitted the vectorizer on the training data to learn the vocabulary and transformed this data into a matrix of TF-IDF features. Finally, we transformed the test data using the same vectorizer, ensuring that both the training and test data are represented in the same feature space for model training and evaluation."
      ],
      "metadata": {
        "id": "ZbnP7WS1YHj8"
      }
    },
    {
      "cell_type": "code",
      "source": [
        "# Initialize the classifier\n",
        "pac = PassiveAggressiveClassifier(max_iter=50)\n",
        "\n",
        "# Fit the classifier on the training data\n",
        "pac.fit(tfidf_train, y_train)\n"
      ],
      "metadata": {
        "colab": {
          "base_uri": "https://localhost:8080/",
          "height": 74
        },
        "id": "l8v_ZFHAYSin",
        "outputId": "c1316619-37e0-4252-972a-4ef9a6ca2f0b"
      },
      "execution_count": null,
      "outputs": [
        {
          "output_type": "execute_result",
          "data": {
            "text/plain": [
              "PassiveAggressiveClassifier(max_iter=50)"
            ],
            "text/html": [
              "<style>#sk-container-id-1 {color: black;}#sk-container-id-1 pre{padding: 0;}#sk-container-id-1 div.sk-toggleable {background-color: white;}#sk-container-id-1 label.sk-toggleable__label {cursor: pointer;display: block;width: 100%;margin-bottom: 0;padding: 0.3em;box-sizing: border-box;text-align: center;}#sk-container-id-1 label.sk-toggleable__label-arrow:before {content: \"▸\";float: left;margin-right: 0.25em;color: #696969;}#sk-container-id-1 label.sk-toggleable__label-arrow:hover:before {color: black;}#sk-container-id-1 div.sk-estimator:hover label.sk-toggleable__label-arrow:before {color: black;}#sk-container-id-1 div.sk-toggleable__content {max-height: 0;max-width: 0;overflow: hidden;text-align: left;background-color: #f0f8ff;}#sk-container-id-1 div.sk-toggleable__content pre {margin: 0.2em;color: black;border-radius: 0.25em;background-color: #f0f8ff;}#sk-container-id-1 input.sk-toggleable__control:checked~div.sk-toggleable__content {max-height: 200px;max-width: 100%;overflow: auto;}#sk-container-id-1 input.sk-toggleable__control:checked~label.sk-toggleable__label-arrow:before {content: \"▾\";}#sk-container-id-1 div.sk-estimator input.sk-toggleable__control:checked~label.sk-toggleable__label {background-color: #d4ebff;}#sk-container-id-1 div.sk-label input.sk-toggleable__control:checked~label.sk-toggleable__label {background-color: #d4ebff;}#sk-container-id-1 input.sk-hidden--visually {border: 0;clip: rect(1px 1px 1px 1px);clip: rect(1px, 1px, 1px, 1px);height: 1px;margin: -1px;overflow: hidden;padding: 0;position: absolute;width: 1px;}#sk-container-id-1 div.sk-estimator {font-family: monospace;background-color: #f0f8ff;border: 1px dotted black;border-radius: 0.25em;box-sizing: border-box;margin-bottom: 0.5em;}#sk-container-id-1 div.sk-estimator:hover {background-color: #d4ebff;}#sk-container-id-1 div.sk-parallel-item::after {content: \"\";width: 100%;border-bottom: 1px solid gray;flex-grow: 1;}#sk-container-id-1 div.sk-label:hover label.sk-toggleable__label {background-color: #d4ebff;}#sk-container-id-1 div.sk-serial::before {content: \"\";position: absolute;border-left: 1px solid gray;box-sizing: border-box;top: 0;bottom: 0;left: 50%;z-index: 0;}#sk-container-id-1 div.sk-serial {display: flex;flex-direction: column;align-items: center;background-color: white;padding-right: 0.2em;padding-left: 0.2em;position: relative;}#sk-container-id-1 div.sk-item {position: relative;z-index: 1;}#sk-container-id-1 div.sk-parallel {display: flex;align-items: stretch;justify-content: center;background-color: white;position: relative;}#sk-container-id-1 div.sk-item::before, #sk-container-id-1 div.sk-parallel-item::before {content: \"\";position: absolute;border-left: 1px solid gray;box-sizing: border-box;top: 0;bottom: 0;left: 50%;z-index: -1;}#sk-container-id-1 div.sk-parallel-item {display: flex;flex-direction: column;z-index: 1;position: relative;background-color: white;}#sk-container-id-1 div.sk-parallel-item:first-child::after {align-self: flex-end;width: 50%;}#sk-container-id-1 div.sk-parallel-item:last-child::after {align-self: flex-start;width: 50%;}#sk-container-id-1 div.sk-parallel-item:only-child::after {width: 0;}#sk-container-id-1 div.sk-dashed-wrapped {border: 1px dashed gray;margin: 0 0.4em 0.5em 0.4em;box-sizing: border-box;padding-bottom: 0.4em;background-color: white;}#sk-container-id-1 div.sk-label label {font-family: monospace;font-weight: bold;display: inline-block;line-height: 1.2em;}#sk-container-id-1 div.sk-label-container {text-align: center;}#sk-container-id-1 div.sk-container {/* jupyter's `normalize.less` sets `[hidden] { display: none; }` but bootstrap.min.css set `[hidden] { display: none !important; }` so we also need the `!important` here to be able to override the default hidden behavior on the sphinx rendered scikit-learn.org. See: https://github.com/scikit-learn/scikit-learn/issues/21755 */display: inline-block !important;position: relative;}#sk-container-id-1 div.sk-text-repr-fallback {display: none;}</style><div id=\"sk-container-id-1\" class=\"sk-top-container\"><div class=\"sk-text-repr-fallback\"><pre>PassiveAggressiveClassifier(max_iter=50)</pre><b>In a Jupyter environment, please rerun this cell to show the HTML representation or trust the notebook. <br />On GitHub, the HTML representation is unable to render, please try loading this page with nbviewer.org.</b></div><div class=\"sk-container\" hidden><div class=\"sk-item\"><div class=\"sk-estimator sk-toggleable\"><input class=\"sk-toggleable__control sk-hidden--visually\" id=\"sk-estimator-id-1\" type=\"checkbox\" checked><label for=\"sk-estimator-id-1\" class=\"sk-toggleable__label sk-toggleable__label-arrow\">PassiveAggressiveClassifier</label><div class=\"sk-toggleable__content\"><pre>PassiveAggressiveClassifier(max_iter=50)</pre></div></div></div></div></div>"
            ]
          },
          "metadata": {},
          "execution_count": 13
        }
      ]
    },
    {
      "cell_type": "markdown",
      "source": [
        "Now, here we initialized a PassiveAggressiveClassifier with a maximum of 50 iterations and trained it on the TF-IDF features of the training data. The classifier learns from the data and adjusts its parameters to improve its ability to classify news articles as \"REAL\" or \"FAKE.\""
      ],
      "metadata": {
        "id": "HGEoo1a5Ym_U"
      }
    },
    {
      "cell_type": "code",
      "source": [
        "# Predict on the test data\n",
        "y_pred = pac.predict(tfidf_test)"
      ],
      "metadata": {
        "id": "EircsbA7ZLsc"
      },
      "execution_count": null,
      "outputs": []
    },
    {
      "cell_type": "markdown",
      "source": [
        "After training the PassiveAggressiveClassifier with the training data, you use it to make predictions on the test data. The predict method assigns labels to the test samples based on what the model has learned, allowing you to evaluate the classifier's performance by comparing these predictions to the actual labels."
      ],
      "metadata": {
        "id": "4GmLXRB5ZsFu"
      }
    },
    {
      "cell_type": "code",
      "source": [
        "# Calculate the accuracy score\n",
        "score = accuracy_score(y_test, y_pred)\n",
        "print(f'Accuracy: {round(score*100, 2)}%')"
      ],
      "metadata": {
        "colab": {
          "base_uri": "https://localhost:8080/"
        },
        "id": "ARplzM1CZusq",
        "outputId": "9930b842-e996-48b0-ede2-1b8ef4e22a10"
      },
      "execution_count": null,
      "outputs": [
        {
          "output_type": "stream",
          "name": "stdout",
          "text": [
            "Accuracy: 92.82%\n"
          ]
        }
      ]
    },
    {
      "cell_type": "markdown",
      "source": [
        "Then, we calculte the accuracy score for our model using the test data. It does so by comparing the true labels of the test data with the predicted labels and printing the accuracy as a percentage, showing how often the classifier correctly predicted the labels.\n",
        "\n",
        "Here, it gave a score of 92.82% which is a pretty good score which states that the model has learned to effectively differentiate between real and fake news based on the features provided."
      ],
      "metadata": {
        "id": "WFYOay-KaG8J"
      }
    },
    {
      "cell_type": "code",
      "source": [
        "# Generate confusion matrix\n",
        "conf_matrix = confusion_matrix(y_test, y_pred, labels=['FAKE', 'REAL'])\n",
        "\n",
        "# Plot the confusion matrix\n",
        "sns.heatmap(conf_matrix, annot=True, fmt='d', cmap='Blues', xticklabels=['FAKE', 'REAL'], yticklabels=['FAKE', 'REAL'])\n",
        "plt.xlabel('Predicted')\n",
        "plt.ylabel('Actual')\n",
        "plt.title('Confusion Matrix')\n",
        "plt.show()"
      ],
      "metadata": {
        "colab": {
          "base_uri": "https://localhost:8080/",
          "height": 472
        },
        "id": "HNx6OBCKauyr",
        "outputId": "79589cf7-60f3-460f-c833-c793ad4724ed"
      },
      "execution_count": null,
      "outputs": [
        {
          "output_type": "display_data",
          "data": {
            "text/plain": [
              "<Figure size 640x480 with 2 Axes>"
            ],
            "image/png": "[encoded data removed]"
          },
          "metadata": {}
        }
      ]
    },
    {
      "cell_type": "markdown",
      "source": [
        "Then, a confusion matrix was plotted. Here, we got 589 True Postives, 49 False Positives, 42 False Negatives and 587 True Negatives."
      ],
      "metadata": {
        "id": "_bpz8nWPbmMs"
      }
    },
    {
      "cell_type": "code",
      "source": [
        "#Get a detailed classification report\n",
        "print(classification_report(y_test, y_pred))"
      ],
      "metadata": {
        "colab": {
          "base_uri": "https://localhost:8080/"
        },
        "id": "1wQEmU5hdELo",
        "outputId": "3cbe1883-6959-48d1-ca38-f9287b1e6485"
      },
      "execution_count": null,
      "outputs": [
        {
          "output_type": "stream",
          "name": "stdout",
          "text": [
            "              precision    recall  f1-score   support\n",
            "\n",
            "        FAKE       0.93      0.92      0.93       638\n",
            "        REAL       0.92      0.93      0.93       629\n",
            "\n",
            "    accuracy                           0.93      1267\n",
            "   macro avg       0.93      0.93      0.93      1267\n",
            "weighted avg       0.93      0.93      0.93      1267\n",
            "\n"
          ]
        }
      ]
    },
    {
      "cell_type": "markdown",
      "source": [
        "The classification report states that the fake news detection model performs pretty well. For the \"FAKE\" class, it has a precision of 93%, meaning 93% of the articles predicted as \"FAKE\" are correctly classified, and a recall of 92%, indicating that 92% of actual \"FAKE\" articles were correctly identified. The F1-score for \"FAKE\" is 93%, showing a balanced performance. For the \"REAL\" class, the model has a precision of 92% and a recall of 93%, with an F1-score of 93%. Overall, the model achieves an accuracy of 93%"
      ],
      "metadata": {
        "id": "mFLAz0lld2ZI"
      }
    },
    {
      "cell_type": "markdown",
      "source": [
        "Now, we try to imporovise the model by handling class imbalances."
      ],
      "metadata": {
        "id": "6OSFduEaeP4p"
      }
    },
    {
      "cell_type": "code",
      "source": [
        "from sklearn.utils import resample\n",
        "\n",
        "# Separate majority and minority classes\n",
        "df_majority = df[df.label == 'REAL']\n",
        "df_minority = df[df.label == 'FAKE']\n",
        "\n",
        "# Upsample minority class\n",
        "df_minority_upsampled = resample(df_minority,\n",
        "                                 replace=True,     # sample with replacement\n",
        "                                 n_samples=len(df_majority),    # to match majority class\n",
        "                                 random_state=7)  # reproducible results\n",
        "\n",
        "# Combine majority class with upsampled minority class\n",
        "df_upsampled = pd.concat([df_majority, df_minority_upsampled])\n",
        "\n",
        "# Shuffle the dataset\n",
        "df_upsampled = df_upsampled.sample(frac=1, random_state=7).reset_index(drop=True)\n",
        "\n",
        "# Update X and y\n",
        "X = df_upsampled['text']\n",
        "y = df_upsampled['label']"
      ],
      "metadata": {
        "id": "iHfTQ13ed3GZ"
      },
      "execution_count": null,
      "outputs": []
    },
    {
      "cell_type": "markdown",
      "source": [
        "We do that by addressing the class imbalance in your dataset by upsampling the minority class, \"FAKE\" news, to match the number of majority class, \"REAL\" news. It first separates the data into majority and minority classes, then creates an upsampled version of the minority class using sampling with replacement to ensure it has the same number of instances as the majority class. This upsampled minority class is combined with the majority class and the entire dataset is shuffled to ensure randomness. Finally, the features and labels are updated with the balanced dataset, preparing it for subsequent model training."
      ],
      "metadata": {
        "id": "J3PmDef0ew3k"
      }
    },
    {
      "cell_type": "markdown",
      "source": [
        "Now, we'll go for Hyperparameter Tuning."
      ],
      "metadata": {
        "id": "dmASbvjigXjU"
      }
    },
    {
      "cell_type": "code",
      "source": [
        "# Define updated parameter grid with increased max_iter\n",
        "param_grid = {\n",
        "    'max_iter': [100, 200, 300],\n",
        "    'C': [0.01, 0.1, 1.0]\n",
        "}\n",
        "\n",
        "# Initialize GridSearch with updated parameter grid\n",
        "grid = GridSearchCV(pac, param_grid, cv=5, scoring='accuracy')\n",
        "\n",
        "# Fit GridSearch\n",
        "grid.fit(tfidf_train, y_train)\n",
        "\n",
        "# Best parameters after tuning\n",
        "print(f'Best Parameters: {grid.best_params_}')\n",
        "\n",
        "# Use the best estimator\n",
        "best_pac = grid.best_estimator_\n",
        "\n",
        "# Predict and evaluate\n",
        "y_pred = best_pac.predict(tfidf_test)\n",
        "print(f'Accuracy after tuning: {accuracy_score(y_test, y_pred)}')\n"
      ],
      "metadata": {
        "colab": {
          "base_uri": "https://localhost:8080/"
        },
        "id": "oIKR9yfmfEC6",
        "outputId": "645ccf0c-274e-418f-bb5d-82ae88d467b0"
      },
      "execution_count": null,
      "outputs": [
        {
          "output_type": "stream",
          "name": "stdout",
          "text": [
            "Best Parameters: {'C': 0.01, 'max_iter': 200}\n",
            "Accuracy after tuning: 0.9313338595106551\n"
          ]
        }
      ]
    },
    {
      "cell_type": "markdown",
      "source": [
        "The hyperparameter tuning process with the GridSearchCV was updated to explore a broader range of max_iter values, including 100, 200, and 300, and C values of 0.01, 0.1, and 1.0. After fitting the grid search on the training data, the best parameters identified were C = 0.01 and max_iter = 200. This configuration improved the model’s performance, achieving an accuracy of approximately 93.13% on the test set. This tuning effectively addressed previous convergence warnings and optimized the model, leading to enhanced prediction accuracy and overall better performance."
      ],
      "metadata": {
        "id": "OBBHIqv8gWDx"
      }
    },
    {
      "cell_type": "markdown",
      "source": [
        "Now, we'll try a different approach by using Logistic Regression approach."
      ],
      "metadata": {
        "id": "f06sI8Klg3T4"
      }
    },
    {
      "cell_type": "code",
      "source": [
        "from sklearn.linear_model import LogisticRegression\n",
        "\n",
        "lr = LogisticRegression(max_iter=1000)\n",
        "lr.fit(tfidf_train, y_train)\n",
        "y_pred_lr = lr.predict(tfidf_test)\n",
        "print(f'Logistic Regression Accuracy: {accuracy_score(y_test, y_pred_lr)}')"
      ],
      "metadata": {
        "colab": {
          "base_uri": "https://localhost:8080/"
        },
        "id": "y_MltagohBbD",
        "outputId": "3dbea962-433d-4901-e1e2-6d28bd3ff1f5"
      },
      "execution_count": null,
      "outputs": [
        {
          "output_type": "stream",
          "name": "stdout",
          "text": [
            "Logistic Regression Accuracy: 0.9171270718232044\n"
          ]
        }
      ]
    },
    {
      "cell_type": "markdown",
      "source": [
        "It gave an accuracy score of around 91.7% which happens to be lower than what we got using 'Passive Agressive Classifier'."
      ],
      "metadata": {
        "id": "4ZLpnVtthavF"
      }
    },
    {
      "cell_type": "markdown",
      "source": [
        "So, we can kinda say that in this case, fir this dataset, Passive Agressive Classifier model performs better than Logistic Regression for Fake News Detection."
      ],
      "metadata": {
        "id": "YncIZn-1lPIF"
      }
    }
  ]
}